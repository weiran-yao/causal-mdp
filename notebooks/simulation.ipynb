{
 "cells": [
  {
   "cell_type": "code",
   "execution_count": 1,
   "metadata": {},
   "outputs": [],
   "source": [
    "import matplotlib as mpl\n",
    "import matplotlib.pyplot as plt\n",
    "from matplotlib import animation\n",
    "from IPython.display import HTML\n",
    "from celluloid import Camera\n",
    "import numpy as np\n",
    "import random"
   ]
  },
  {
   "cell_type": "code",
   "execution_count": 2,
   "metadata": {
    "scrolled": true
   },
   "outputs": [
    {
     "name": "stdout",
     "output_type": "stream",
     "text": [
      "Loading chipmunk for Linux (64bit) [/home/weiran/anaconda3/envs/torch15/lib/python3.7/site-packages/pymunk/libchipmunk.so]\n"
     ]
    }
   ],
   "source": [
    "import pymunk\n",
    "from pymunk.vec2d import Vec2d\n",
    "import pymunk.matplotlib_util"
   ]
  },
  {
   "cell_type": "code",
   "execution_count": 3,
   "metadata": {},
   "outputs": [],
   "source": [
    "def setup_space(gx, gy, damping):\n",
    "    space = pymunk.Space()\n",
    "    space.gravity = gx, gy\n",
    "    space.damping = damping\n",
    "    return space"
   ]
  },
  {
   "cell_type": "code",
   "execution_count": 4,
   "metadata": {},
   "outputs": [],
   "source": [
    "def setup_walls(space, px, py, offset, elasts, width):\n",
    "    body = pymunk.Body(body_type = pymunk.Body.STATIC) # 1\n",
    "    body.position = (px, py)\n",
    "    offset = offset\n",
    "    l1 = pymunk.Segment(body, (-offset, offset), (offset, offset), width) # 2\n",
    "    l2 = pymunk.Segment(body, (-offset, offset), (-offset, -offset), width)\n",
    "    l3 = pymunk.Segment(body, (-offset, -offset), (offset, -offset), width)\n",
    "    l4 = pymunk.Segment(body, (offset, offset), (offset, -offset), width)\n",
    "    static_lines = [l1,l2,l3,l4]\n",
    "    for l_idx, line in enumerate(static_lines):\n",
    "        line.elasticity = elasts[l_idx]\n",
    "        line.friction = 0\n",
    "    space.add(static_lines) # 3\n",
    "    return static_lines"
   ]
  },
  {
   "cell_type": "code",
   "execution_count": 72,
   "metadata": {},
   "outputs": [],
   "source": [
    "def setup_balls(space, px, py, offset, masses, radiuses, elasts):\n",
    "    width = offset*2\n",
    "    height = offset*2\n",
    "    balls = [ ]\n",
    "    n_balls = len(radiuses)\n",
    "    step = 400//n_balls + 1\n",
    "    for b_idx, x in enumerate(range(-200,200,step)):\n",
    "        x += width / 2\n",
    "        offset_y = height\n",
    "        mass = masses[b_idx]\n",
    "        radius = radiuses[b_idx]\n",
    "        moment = pymunk.moment_for_circle(mass, 0, radius, (0,0))\n",
    "        body = pymunk.Body(mass, moment)\n",
    "        body.position = x, -125+offset_y\n",
    "        body.start_position = Vec2d(body.position)\n",
    "        shape = pymunk.Circle(body, radius, (0,0))\n",
    "        shape.elasticity = elasts[b_idx]\n",
    "        space.add(body, shape)\n",
    "        balls.append(body)\n",
    "    #pj = pymunk.PinJoint(balls[0],balls[1], (0, 0), (0,0))\n",
    "    #space.add(pj)\n",
    "    #pj = pymunk.PinJoint(balls[1],balls[2], (0, 0), (0,0))\n",
    "    #space.add(pj)\n",
    "    return balls"
   ]
  },
  {
   "cell_type": "code",
   "execution_count": 106,
   "metadata": {},
   "outputs": [],
   "source": [
    "def get_attributes(shape):\n",
    "    x1, x2, y1, y2 = shape.bb.left, shape.bb.right, shape.bb.bottom, shape.bb.top\n",
    "    body_type = shape.body.body_type\n",
    "    if isinstance(shape, pymunk.shapes.Segment):\n",
    "        shape_type = 0\n",
    "    elif isinstance(shape, pymunk.shapes.Circle):\n",
    "        shape_type = 1\n",
    "    mass = shape.body.mass\n",
    "    elasticity = shape.elasticity\n",
    "    return [x1, y1, x2, y2, shape_type, body_type, mass, elasticity]"
   ]
  },
  {
   "cell_type": "code",
   "execution_count": 92,
   "metadata": {},
   "outputs": [],
   "source": [
    "def initialize_params(n_balls = 5):\n",
    "    gx, gy = np.random.normal()*1000, np.random.normal()*1000\n",
    "    offset = np.random.choice([250,275,300,325])\n",
    "    damping = np.random.rand()\n",
    "    wall_elasts = np.clip(np.random.rand(4)+0.5, a_min=0.5, a_max=1)\n",
    "    ball_elasts = np.clip(np.random.rand(n_balls)+0.5, a_min=0.5, a_max=1)\n",
    "    radiuses = np.clip(np.random.rand(n_balls)*100, a_min=30, a_max=50)\n",
    "    masses = np.clip(np.random.rand(n_balls)*40, a_min=10, a_max=40)\n",
    "    params = {'gx': gx, 'gy': gy,'offset' : offset,\n",
    "              'damping': damping, 'wall_elasts': wall_elasts,\n",
    "              'masses': masses,'ball_elasts': ball_elasts, 'radiuses': radiuses}\n",
    "    return params"
   ]
  },
  {
   "cell_type": "code",
   "execution_count": 113,
   "metadata": {},
   "outputs": [],
   "source": [
    "def run_simulation(params, render=False):\n",
    "    px, py = 300, 300\n",
    "    buffer = 15\n",
    "    side = params[\"offset\"] + buffer\n",
    "    width = 2\n",
    "    if render:\n",
    "        fig, ax = plt.subplots()\n",
    "        plt.axis('off')\n",
    "        camera = Camera(fig)\n",
    "        ax.set_xlim((px-side-10, px+side+10))\n",
    "        ax.set_ylim((py-side-10, py+side+10))\n",
    "        ax.set_aspect(\"equal\")\n",
    "        o = pymunk.matplotlib_util.DrawOptions(ax)\n",
    "    # creating objects\n",
    "    space = setup_space(params[\"gx\"], params[\"gy\"], params[\"damping\"])\n",
    "    lines = setup_walls(space, px, py, side, params[\"wall_elasts\"], width)\n",
    "    balls = setup_balls(space, px, py, params[\"offset\"], params[\"masses\"], \n",
    "                        params[\"radiuses\"], params[\"ball_elasts\"])\n",
    "    for shape in space.shapes:\n",
    "        if shape.body.body_type == 0:\n",
    "            fx, fy = np.random.normal(size=2)\n",
    "            scale = np.random.rand()*100000\n",
    "            shape.body.apply_impulse_at_local_point((fx*scale,fy*scale))\n",
    "    # simulation\n",
    "    total_steps = 80\n",
    "    attributes = np.zeros((total_steps+2, len(space.shapes), 8))\n",
    "    for i in range(total_steps+2):\n",
    "        for x in range(10):\n",
    "            space.step(1/50/10/2)\n",
    "        for s_idx, shape in enumerate(space.shapes):\n",
    "            attributes[i, s_idx] = get_attributes(shape) \n",
    "        if render:\n",
    "            space.debug_draw(o)\n",
    "            camera.snap()\n",
    "    attributes[np.isposinf(attributes)] = 1e+8\n",
    "    speed = np.diff(attributes[:,:,:2], axis=0)\n",
    "    attr_spd = np.concatenate((speed, attributes[1:]), axis=-1)\n",
    "    X = attr_spd[:-1,:,:7]\n",
    "    y = attr_spd[1:,:,:2]\n",
    "    # return output\n",
    "    if render:\n",
    "        anim = camera.animate()\n",
    "        return X, y, anim\n",
    "    else:\n",
    "        return X, y"
   ]
  },
  {
   "cell_type": "code",
   "execution_count": 114,
   "metadata": {},
   "outputs": [],
   "source": [
    "params = initialize_params(2)"
   ]
  },
  {
   "cell_type": "code",
   "execution_count": 115,
   "metadata": {
    "scrolled": true
   },
   "outputs": [
    {
     "data": {
      "image/png": "[encoded data removed]",
      "text/plain": [
       "<Figure size 432x288 with 1 Axes>"
      ]
     },
     "metadata": {
      "needs_background": "light"
     },
     "output_type": "display_data"
    }
   ],
   "source": [
    "X, y, anim = run_simulation(params, render=True)"
   ]
  },
  {
   "cell_type": "code",
   "execution_count": 122,
   "metadata": {},
   "outputs": [
    {
     "data": {
      "text/plain": [
       "(80, 6, 7)"
      ]
     },
     "execution_count": 122,
     "metadata": {},
     "output_type": "execute_result"
    }
   ],
   "source": [
    "X.shape"
   ]
  },
  {
   "cell_type": "code",
   "execution_count": null,
   "metadata": {},
   "outputs": [],
   "source": []
  },
  {
   "cell_type": "code",
   "execution_count": 104,
   "metadata": {
    "scrolled": true
   },
   "outputs": [
    {
     "ename": "TypeError",
     "evalue": "'MovieWriterRegistry' object is not an iterator",
     "output_type": "error",
     "traceback": [
      "\u001b[0;31m---------------------------------------------------------------------------\u001b[0m",
      "\u001b[0;31mTypeError\u001b[0m                                 Traceback (most recent call last)",
      "\u001b[0;32m<ipython-input-104-6491ceb41043>\u001b[0m in \u001b[0;36m<module>\u001b[0;34m\u001b[0m\n\u001b[0;32m----> 1\u001b[0;31m \u001b[0manim\u001b[0m\u001b[0;34m.\u001b[0m\u001b[0msave\u001b[0m\u001b[0;34m(\u001b[0m\u001b[0;34m'../data/animation.mp4'\u001b[0m\u001b[0;34m)\u001b[0m\u001b[0;34m\u001b[0m\u001b[0;34m\u001b[0m\u001b[0m\n\u001b[0m",
      "\u001b[0;32m~/anaconda3/envs/torch15/lib/python3.7/site-packages/matplotlib/animation.py\u001b[0m in \u001b[0;36msave\u001b[0;34m(self, filename, writer, fps, dpi, codec, bitrate, extra_args, metadata, extra_anim, savefig_kwargs, progress_callback)\u001b[0m\n\u001b[1;32m   1100\u001b[0m                                          metadata=metadata)\n\u001b[1;32m   1101\u001b[0m             \u001b[0;32melse\u001b[0m\u001b[0;34m:\u001b[0m\u001b[0;34m\u001b[0m\u001b[0;34m\u001b[0m\u001b[0m\n\u001b[0;32m-> 1102\u001b[0;31m                 \u001b[0malt_writer\u001b[0m \u001b[0;34m=\u001b[0m \u001b[0mnext\u001b[0m\u001b[0;34m(\u001b[0m\u001b[0miter\u001b[0m\u001b[0;34m(\u001b[0m\u001b[0mwriters\u001b[0m\u001b[0;34m)\u001b[0m\u001b[0;34m,\u001b[0m \u001b[0;32mNone\u001b[0m\u001b[0;34m)\u001b[0m\u001b[0;34m\u001b[0m\u001b[0;34m\u001b[0m\u001b[0m\n\u001b[0m\u001b[1;32m   1103\u001b[0m                 \u001b[0;32mif\u001b[0m \u001b[0malt_writer\u001b[0m \u001b[0;32mis\u001b[0m \u001b[0;32mNone\u001b[0m\u001b[0;34m:\u001b[0m\u001b[0;34m\u001b[0m\u001b[0;34m\u001b[0m\u001b[0m\n\u001b[1;32m   1104\u001b[0m                     raise ValueError(\"Cannot save animation: no writers are \"\n",
      "\u001b[0;31mTypeError\u001b[0m: 'MovieWriterRegistry' object is not an iterator"
     ]
    }
   ],
   "source": [
    "anim.save('../data/animation.mp4')"
   ]
  },
  {
   "cell_type": "code",
   "execution_count": null,
   "metadata": {},
   "outputs": [],
   "source": []
  }
 ],
 "metadata": {
  "kernelspec": {
   "display_name": "torch15",
   "language": "python",
   "name": "torch15"
  },
  "language_info": {
   "codemirror_mode": {
    "name": "ipython",
    "version": 3
   },
   "file_extension": ".py",
   "mimetype": "text/x-python",
   "name": "python",
   "nbconvert_exporter": "python",
   "pygments_lexer": "ipython3",
   "version": "3.7.7"
  }
 },
 "nbformat": 4,
 "nbformat_minor": 2
}
